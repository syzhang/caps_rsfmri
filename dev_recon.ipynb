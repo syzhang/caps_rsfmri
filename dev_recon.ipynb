{
 "cells": [
  {
   "cell_type": "markdown",
   "id": "selected-offer",
   "metadata": {},
   "source": [
    "### dev reconstruction"
   ]
  },
  {
   "cell_type": "code",
   "execution_count": 1,
   "id": "answering-discretion",
   "metadata": {},
   "outputs": [],
   "source": [
    "import os\n",
    "import numpy as np\n",
    "import pandas as pd\n",
    "from sklearn.model_selection import LeaveOneOut\n",
    "from sklearn import linear_model\n",
    "from sklearn.svm import LinearSVC\n",
    "from sklearn.metrics import mean_squared_error, r2_score, accuracy_score, roc_auc_score\n",
    "from itertools import combinations"
   ]
  },
  {
   "cell_type": "code",
   "execution_count": 2,
   "id": "respiratory-quebec",
   "metadata": {},
   "outputs": [],
   "source": [
    "from classify import load_dynamic_corr, pca, reg_cv"
   ]
  },
  {
   "cell_type": "code",
   "execution_count": 3,
   "id": "connected-associate",
   "metadata": {},
   "outputs": [],
   "source": [
    "comb = ('pain', 'relief')\n",
    "atl = 'yeo'"
   ]
  },
  {
   "cell_type": "code",
   "execution_count": 4,
   "id": "european-battle",
   "metadata": {},
   "outputs": [],
   "source": [
    "X,y = load_dynamic_corr(atl, sess_types=comb, time_bins=10, flatten=True)"
   ]
  },
  {
   "cell_type": "code",
   "execution_count": 5,
   "id": "single-petersburg",
   "metadata": {},
   "outputs": [
    {
     "data": {
      "text/plain": [
       "(22, 1360)"
      ]
     },
     "execution_count": 5,
     "metadata": {},
     "output_type": "execute_result"
    }
   ],
   "source": [
    "X.shape"
   ]
  },
  {
   "cell_type": "code",
   "execution_count": 6,
   "id": "qualified-watershed",
   "metadata": {},
   "outputs": [],
   "source": [
    "X_pca, evectors, evals = pca(X, n_components=12)"
   ]
  },
  {
   "cell_type": "code",
   "execution_count": 7,
   "id": "pressed-salon",
   "metadata": {},
   "outputs": [
    {
     "data": {
      "text/plain": [
       "(22, 12)"
      ]
     },
     "execution_count": 7,
     "metadata": {},
     "output_type": "execute_result"
    }
   ],
   "source": [
    "X_pca.shape"
   ]
  },
  {
   "cell_type": "code",
   "execution_count": 8,
   "id": "understood-liberty",
   "metadata": {},
   "outputs": [
    {
     "name": "stdout",
     "output_type": "stream",
     "text": [
      "mean accuracy=0.727\n"
     ]
    }
   ],
   "source": [
    "accu = reg_cv(X_pca, y, svc=False)"
   ]
  },
  {
   "cell_type": "markdown",
   "id": "wrong-agent",
   "metadata": {},
   "source": [
    "#### get logistic regression weights"
   ]
  },
  {
   "cell_type": "code",
   "execution_count": 9,
   "id": "floral-kruger",
   "metadata": {},
   "outputs": [
    {
     "data": {
      "text/plain": [
       "LogisticRegression()"
      ]
     },
     "execution_count": 9,
     "metadata": {},
     "output_type": "execute_result"
    }
   ],
   "source": [
    "clf = linear_model.LogisticRegression()\n",
    "clf.fit(X_pca, y)"
   ]
  },
  {
   "cell_type": "code",
   "execution_count": 10,
   "id": "eastern-mexico",
   "metadata": {},
   "outputs": [
    {
     "name": "stdout",
     "output_type": "stream",
     "text": [
      "[[-0.03968156  0.42734281 -0.3374414  -0.87072079  0.00789614  0.10363632\n",
      "   0.51406392  0.00877552 -0.94769325 -0.84437712 -0.05360875  0.46496472]]\n"
     ]
    }
   ],
   "source": [
    "lr_coef = clf.coef_\n",
    "print(lr_coef)"
   ]
  },
  {
   "cell_type": "code",
   "execution_count": 11,
   "id": "respected-humanitarian",
   "metadata": {},
   "outputs": [
    {
     "data": {
      "text/plain": [
       "(1360, 12)"
      ]
     },
     "execution_count": 11,
     "metadata": {},
     "output_type": "execute_result"
    }
   ],
   "source": [
    "evectors.shape"
   ]
  },
  {
   "cell_type": "code",
   "execution_count": 12,
   "id": "nasty-drain",
   "metadata": {},
   "outputs": [],
   "source": [
    "from classify import reconstruct_data\n",
    "# reconstructing using eigen vectors from earlier\n",
    "DCC_weights = reconstruct_data(lr_coef, evectors, 0)"
   ]
  },
  {
   "cell_type": "code",
   "execution_count": 13,
   "id": "unavailable-quality",
   "metadata": {},
   "outputs": [
    {
     "data": {
      "text/plain": [
       "(1, 1360)"
      ]
     },
     "execution_count": 13,
     "metadata": {},
     "output_type": "execute_result"
    }
   ],
   "source": [
    "DCC_weights.shape"
   ]
  },
  {
   "cell_type": "code",
   "execution_count": 14,
   "id": "infectious-grove",
   "metadata": {},
   "outputs": [],
   "source": [
    "time_bins = 10\n",
    "DCC_weights_reshape = DCC_weights.reshape(int(DCC_weights.shape[1]/time_bins), time_bins)"
   ]
  },
  {
   "cell_type": "code",
   "execution_count": 15,
   "id": "severe-arabic",
   "metadata": {
    "tags": []
   },
   "outputs": [
    {
     "data": {
      "text/plain": [
       "(136, 10)"
      ]
     },
     "execution_count": 15,
     "metadata": {},
     "output_type": "execute_result"
    }
   ],
   "source": [
    "DCC_weights_reshape.shape"
   ]
  },
  {
   "cell_type": "code",
   "execution_count": 63,
   "id": "composed-moment",
   "metadata": {},
   "outputs": [],
   "source": [
    "def reconstruct_weight(r):\n",
    "    \"\"\"reconstruct weight matrix\"\"\"\n",
    "#     n = r.shape[0] # num partition\n",
    "    n = int(1/2 + np.sqrt(r.shape[0]*2 + 1/4))\n",
    "    print(n)\n",
    "    r_out = np.zeros((n,n))\n",
    "    triu = np.triu(np.ones((n,n)), 1)>0\n",
    "    r_out[triu] = r\n",
    "#     r_tmp = r\n",
    "#     r_out = r_tmp[triu]\n",
    "    r_out = r_out + r_out.T\n",
    "    return r_out"
   ]
  },
  {
   "cell_type": "code",
   "execution_count": 79,
   "id": "tribal-memory",
   "metadata": {},
   "outputs": [
    {
     "name": "stdout",
     "output_type": "stream",
     "text": [
      "17\n"
     ]
    }
   ],
   "source": [
    "r_out = reconstruct_weight(DCC_weights_reshape[:,9])"
   ]
  },
  {
   "cell_type": "code",
   "execution_count": 80,
   "id": "corrected-pasta",
   "metadata": {},
   "outputs": [
    {
     "data": {
      "text/plain": [
       "(17, 17)"
      ]
     },
     "execution_count": 80,
     "metadata": {},
     "output_type": "execute_result"
    }
   ],
   "source": [
    "r_out.shape"
   ]
  },
  {
   "cell_type": "code",
   "execution_count": 67,
   "id": "committed-utility",
   "metadata": {},
   "outputs": [],
   "source": [
    "import matplotlib.pyplot as plt"
   ]
  },
  {
   "cell_type": "code",
   "execution_count": 69,
   "id": "floating-tourism",
   "metadata": {},
   "outputs": [],
   "source": [
    "from nilearn import plotting"
   ]
  },
  {
   "cell_type": "code",
   "execution_count": null,
   "id": "romantic-foundation",
   "metadata": {},
   "outputs": [],
   "source": []
  },
  {
   "cell_type": "code",
   "execution_count": 70,
   "id": "selective-cotton",
   "metadata": {},
   "outputs": [
    {
     "data": {
      "text/plain": [
       "<matplotlib.image.AxesImage at 0x7f1a372a7040>"
      ]
     },
     "execution_count": 70,
     "metadata": {},
     "output_type": "execute_result"
    },
    {
     "data": {
      "image/png": "[encoded data removed]",
      "text/plain": [
       "<Figure size 504x360 with 2 Axes>"
      ]
     },
     "metadata": {
      "needs_background": "light"
     },
     "output_type": "display_data"
    }
   ],
   "source": [
    "plotting.plot_matrix(r_out)"
   ]
  },
  {
   "cell_type": "code",
   "execution_count": 81,
   "id": "economic-cattle",
   "metadata": {},
   "outputs": [
    {
     "data": {
      "text/plain": [
       "<matplotlib.image.AxesImage at 0x7f1a37210220>"
      ]
     },
     "execution_count": 81,
     "metadata": {},
     "output_type": "execute_result"
    },
    {
     "data": {
      "image/png": "[encoded data removed]",
      "text/plain": [
       "<Figure size 504x360 with 2 Axes>"
      ]
     },
     "metadata": {
      "needs_background": "light"
     },
     "output_type": "display_data"
    }
   ],
   "source": [
    "plotting.plot_matrix(r_out)"
   ]
  },
  {
   "cell_type": "code",
   "execution_count": 75,
   "id": "future-danish",
   "metadata": {},
   "outputs": [],
   "source": [
    "from nilearn import datasets\n",
    "\n",
    "yeo = datasets.fetch_atlas_yeo_2011()\n",
    "atlas_yeo = yeo.thick_17"
   ]
  },
  {
   "cell_type": "code",
   "execution_count": null,
   "id": "small-marketing",
   "metadata": {},
   "outputs": [],
   "source": []
  }
 ],
 "metadata": {
  "kernelspec": {
   "display_name": "Python 3",
   "language": "python",
   "name": "python3"
  },
  "language_info": {
   "codemirror_mode": {
    "name": "ipython",
    "version": 3
   },
   "file_extension": ".py",
   "mimetype": "text/x-python",
   "name": "python",
   "nbconvert_exporter": "python",
   "pygments_lexer": "ipython3",
   "version": "3.9.1"
  }
 },
 "nbformat": 4,
 "nbformat_minor": 5
}
